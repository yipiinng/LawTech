{
 "cells": [
  {
   "cell_type": "markdown",
   "metadata": {},
   "source": [
    "# LawTech HW1"
   ]
  },
  {
   "cell_type": "markdown",
   "metadata": {},
   "source": [
    "繳交檔名：LawTech_HW1_學號"
   ]
  },
  {
   "cell_type": "markdown",
   "metadata": {},
   "source": [
    "#### 一、字串處理"
   ]
  },
  {
   "cell_type": "markdown",
   "metadata": {},
   "source": [
    "請用「空白鍵」當作切割符，對 `test1`變數做切割，並將Zombie、boys、Vampire這幾個單詞抓出來，使用字串格式化的方式產生下面的句子"
   ]
  },
  {
   "cell_type": "markdown",
   "metadata": {},
   "source": [
    "Oh! boys, please don't fear Zombie and Vampire."
   ]
  },
  {
   "cell_type": "code",
   "execution_count": 3,
   "metadata": {},
   "outputs": [
    {
     "data": {
      "text/plain": [
       "['Zombie',\n",
       " 'stories',\n",
       " 'are',\n",
       " 'life',\n",
       " 'lessons',\n",
       " 'for',\n",
       " 'boys',\n",
       " 'who',\n",
       " \"don't\",\n",
       " 'mind',\n",
       " 'thinking',\n",
       " 'about',\n",
       " 'bodies,',\n",
       " 'but',\n",
       " \"can't\",\n",
       " 'cope',\n",
       " 'with',\n",
       " 'emotions.',\n",
       " 'Vampire',\n",
       " 'stories',\n",
       " 'are',\n",
       " 'in',\n",
       " 'many',\n",
       " 'ways',\n",
       " 'sex',\n",
       " 'for',\n",
       " 'the',\n",
       " 'squeamish.']"
      ]
     },
     "execution_count": 3,
     "metadata": {},
     "output_type": "execute_result"
    }
   ],
   "source": [
    "test1 = \"Zombie stories are life lessons for boys who don't mind thinking about bodies, but can't cope with emotions. \\\n",
    "Vampire stories are in many ways sex for the squeamish.\"\n",
    "A = test1.split()"
   ]
  },
  {
   "cell_type": "code",
   "execution_count": 8,
   "metadata": {},
   "outputs": [
    {
     "name": "stdout",
     "output_type": "stream",
     "text": [
      "Oh! boys, please don't fear Zombie and Vampire.\n"
     ]
    }
   ],
   "source": [
    "a = A.index(\"Zombie\"),A.index(\"boys\"),A.index(\"Vampire\")\n",
    "print(\"Oh! \" + str(A[6]) + \", please don't fear \" + str(A[0]) + \" and \" + str(A[18]) + \".\")"
   ]
  },
  {
   "cell_type": "markdown",
   "metadata": {},
   "source": [
    "#### 二、Index索引練習\n",
    "\n",
    "請將 List 中的數字抓出，並算出總合為多少"
   ]
  },
  {
   "cell_type": "code",
   "execution_count": 12,
   "metadata": {},
   "outputs": [],
   "source": [
    "List = [23, 'red', 3, ['15', 'apple', [3, '3.5']], '27', [90, 'fight']]"
   ]
  },
  {
   "cell_type": "code",
   "execution_count": 13,
   "metadata": {},
   "outputs": [
    {
     "name": "stdout",
     "output_type": "stream",
     "text": [
      "164.5\n"
     ]
    }
   ],
   "source": [
    "print(List[0] + List[2] + eval(List[3][0]) + List[3][2][0] + eval(List[3][2][-1]) + eval(List[-2]) + List[-1][0])"
   ]
  },
  {
   "cell_type": "markdown",
   "metadata": {},
   "source": [
    "#### 三、資料存取練習"
   ]
  },
  {
   "cell_type": "markdown",
   "metadata": {},
   "source": [
    "請設計一個資料結構（dict of list），來儲存以下數據\n",
    "\n",
    "\n",
    "Jay--M--170\n",
    "\n",
    "Bill--M--189\n",
    "\n",
    "Alice--F--160\n",
    "\n",
    "May--F--158\n",
    "\n",
    "Max--M--185\n",
    "\n",
    "Ann--F--148\n",
    "\n",
    "Dabby--F--150\n",
    "\n",
    "Steve--M--180\n",
    "\n",
    "Jet--M--173\n",
    "\n",
    "Amy--F--156\n",
    "\n",
    "並計算這10人的身高平均"
   ]
  },
  {
   "cell_type": "markdown",
   "metadata": {},
   "source": [
    "`sum()`：合計function\n"
   ]
  },
  {
   "cell_type": "code",
   "execution_count": 14,
   "metadata": {},
   "outputs": [],
   "source": [
    "name = ['Jay', 'Bill', 'Alice', 'May', 'Max', 'Ann', 'Dabby', 'Steve', 'Jet', 'Amy']\n",
    "gender = ['M', 'M', 'F', 'F', 'M', 'F', 'F', 'M', 'M', 'F']\n",
    "height = [170, 189, 160, 158, 185, 148, 150, 180, 173, 156]\n",
    "\n",
    "dict1 = {'name': name, 'gender': gender, 'height': height}"
   ]
  },
  {
   "cell_type": "code",
   "execution_count": 15,
   "metadata": {},
   "outputs": [
    {
     "data": {
      "text/plain": [
       "166.9"
      ]
     },
     "execution_count": 15,
     "metadata": {},
     "output_type": "execute_result"
    }
   ],
   "source": [
    "sum(dict1['height'])/ len(height)"
   ]
  }
 ],
 "metadata": {
  "kernelspec": {
   "display_name": "Python 3",
   "language": "python",
   "name": "python3"
  },
  "language_info": {
   "codemirror_mode": {
    "name": "ipython",
    "version": 3
   },
   "file_extension": ".py",
   "mimetype": "text/x-python",
   "name": "python",
   "nbconvert_exporter": "python",
   "pygments_lexer": "ipython3",
   "version": "3.8.3"
  }
 },
 "nbformat": 4,
 "nbformat_minor": 2
}
